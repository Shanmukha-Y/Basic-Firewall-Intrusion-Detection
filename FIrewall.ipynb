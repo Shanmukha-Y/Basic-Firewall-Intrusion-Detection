{
 "cells": [
  {
   "cell_type": "code",
   "execution_count": 1,
   "metadata": {},
   "outputs": [],
   "source": [
    "import Crypto\n",
    "from Crypto.PublicKey import RSA\n",
    "from Crypto import Random\n",
    "import base64\n",
    "from Crypto.Cipher import PKCS1_OAEP\n",
    "\n",
    "from Crypto.Signature import pkcs1_15\n",
    "from cryptography.hazmat.primitives import hashes\n",
    "from cryptography.hazmat.primitives.asymmetric import padding\n",
    "\n",
    "\n",
    "from Crypto.Hash import SHA512, SHA384, SHA256, SHA, MD5\n",
    "from base64 import b64encode, b64decode\n",
    "import rsa\n",
    "\n"
   ]
  },
  {
   "cell_type": "code",
   "execution_count": 2,
   "metadata": {},
   "outputs": [],
   "source": [
    "hash = \"SHA-256\"\n",
    "\n",
    "def newkeys(keysize):\n",
    "    random_generator = Random.new().read\n",
    "    key = RSA.generate(keysize, random_generator)\n",
    "    private, public = key, key.publickey()\n",
    "    return public, private\n",
    "\n"
   ]
  },
  {
   "cell_type": "code",
   "execution_count": 3,
   "metadata": {},
   "outputs": [],
   "source": [
    "def importKey(externKey):\n",
    "    return RSA.importKey(externKey)\n",
    "\n",
    "def getpublickey(priv_key):\n",
    "    return priv_key.publickey()\n",
    "\n",
    "def encrypt(message, pub_key):\n",
    "    #RSA encryption protocol according to PKCS#1 OAEP\n",
    "    cipher = PKCS1_OAEP.new(pub_key)\n",
    "    return cipher.encrypt(message)\n",
    "\n"
   ]
  },
  {
   "cell_type": "code",
   "execution_count": 4,
   "metadata": {},
   "outputs": [],
   "source": [
    "def decrypt(ciphertext, priv_key):\n",
    "    #RSA encryption protocol according to PKCS#1 OAEP\n",
    "    cipher = PKCS1_OAEP.new(priv_key)\n",
    "    return cipher.decrypt(ciphertext)\n",
    "\n"
   ]
  },
  {
   "cell_type": "code",
   "execution_count": 5,
   "metadata": {},
   "outputs": [],
   "source": [
    "def sign(message, priv_key, hashAlg=\"SHA-256\"):\n",
    "    global hash\n",
    "    hash = hashAlg\n",
    "    signer = PKCS1_v1_5.new(priv_key)\n",
    "    if (hash == \"SHA-512\"):\n",
    "        digest = SHA512.new()\n",
    "    elif (hash == \"SHA-384\"):\n",
    "        digest = SHA384.new()\n",
    "    elif (hash == \"SHA-256\"):\n",
    "        digest = SHA256.new()\n",
    "    elif (hash == \"SHA-1\"):\n",
    "        digest = SHA.new()\n",
    "    else:\n",
    "        digest = MD5.new()\n",
    "    digest.update(message)\n",
    "    return signer.sign(digest)\n",
    "\n"
   ]
  },
  {
   "cell_type": "code",
   "execution_count": 6,
   "metadata": {},
   "outputs": [],
   "source": [
    "def verify(message, signature, pub_key):\n",
    "    signer = PKCS1_v1_5.new(pub_key)\n",
    "    if (hash == \"SHA-512\"):\n",
    "        digest = SHA512.new()\n",
    "    elif (hash == \"SHA-384\"):\n",
    "        digest = SHA384.new()\n",
    "    elif (hash == \"SHA-256\"):\n",
    "        digest = SHA256.new()\n",
    "    elif (hash == \"SHA-1\"):\n",
    "        digest = SHA.new()\n",
    "    else:\n",
    "        digest = MD5.new()\n",
    "    digest.update(message)\n",
    "    return signer.verify(digest, signature)\n",
    "    "
   ]
  },
  {
   "cell_type": "code",
   "execution_count": 8,
   "metadata": {},
   "outputs": [],
   "source": [
    "(public, private) = rsa.newkeys(2048)\n"
   ]
  },
  {
   "cell_type": "code",
   "execution_count": 9,
   "metadata": {},
   "outputs": [],
   "source": [
    "\n",
    "def sender():\n",
    "    text=\"Hello this is sender! my port is : \"\n",
    "    port = int(input(\"enter port number to communicate\"))\n",
    "    keysize = 2048\n",
    "    msg = text + str(port)\n",
    "    msg = bytes(msg, 'utf-8')\n",
    "    packet = b64encode(rsa.encrypt(msg, public))\n",
    "    sender_sign = b64encode(rsa.sign(msg, private, \"SHA-512\"))    \n",
    "    return packet,sender_sign,port\n",
    "    \n",
    "    \n",
    "    "
   ]
  },
  {
   "cell_type": "code",
   "execution_count": null,
   "metadata": {},
   "outputs": [],
   "source": [
    "def firewall():\n",
    "    accepted_ports = [21,777,80,20]\n",
    "    #port=20\n",
    "    while True:\n",
    "        (p,ss,port) = sender()\n",
    "        if port in accepted_ports:\n",
    "            rec(p,ss)\n",
    "        else:\n",
    "            print(\"Intrusion from different port\")\n",
    "        \n",
    "    "
   ]
  },
  {
   "cell_type": "code",
   "execution_count": null,
   "metadata": {},
   "outputs": [],
   "source": [
    "def rec(packet,sender_sign):\n",
    "    decrypted = rsa.decrypt(b64decode(packet), private)\n",
    "    print(decrypted)\n",
    "\n",
    "    verify = rsa.verify(decrypted, b64decode(sender_sign), public)\n",
    "    print(\"the digital signature matches that of sender, the hash: \"+str(verify))\n",
    "    \n",
    "    "
   ]
  },
  {
   "cell_type": "code",
   "execution_count": null,
   "metadata": {},
   "outputs": [],
   "source": [
    "p,ss,port = sender()"
   ]
  },
  {
   "cell_type": "code",
   "execution_count": null,
   "metadata": {},
   "outputs": [],
   "source": [
    "firewall()"
   ]
  },
  {
   "cell_type": "code",
   "execution_count": null,
   "metadata": {},
   "outputs": [],
   "source": []
  }
 ],
 "metadata": {
  "kernelspec": {
   "display_name": "Python 3",
   "language": "python",
   "name": "python3"
  },
  "language_info": {
   "codemirror_mode": {
    "name": "ipython",
    "version": 3
   },
   "file_extension": ".py",
   "mimetype": "text/x-python",
   "name": "python",
   "nbconvert_exporter": "python",
   "pygments_lexer": "ipython3",
   "version": "3.6.8"
  }
 },
 "nbformat": 4,
 "nbformat_minor": 2
}
